{
 "cells": [
  {
   "cell_type": "code",
   "execution_count": 12,
   "id": "d816e17c-fdba-4edb-810e-22c04708418d",
   "metadata": {},
   "outputs": [
    {
     "name": "stdout",
     "output_type": "stream",
     "text": [
      "Python version in use: 3.11.7 (main, Dec 15 2023, 18:12:31) [GCC 11.2.0]\n",
      "Running /home/carlosxag1992/anaconda3/envs/cvml/lib/python3.11/site-packages/ipykernel_launcher.py as script...\n"
     ]
    }
   ],
   "source": [
    "# Copyright (C) COLVIRM project 2024\n",
    "# This project is licensed under the terms of the MIT license.\n",
    "#*PYTHON PROGRAM\n",
    "# RDIMCV.py\n",
    "#*PURPOSE\n",
    "# Read a DIC image for computer vision analysis\n",
    "#*ACRONYM\n",
    "# Read_Dic_IMage_Computer_Vision\n",
    "#*DESCRIPTION\n",
    "# Read a set of Digital-Image-Correlation (DIC) images.\n",
    "# Input is proprietary format im7, which gets converted\n",
    "# to another formats more suitable for Computer Vision\n",
    "#*HISTORY\n",
    "# NAME DATE   DESCRIPTION\n",
    "# CAG  May24  Initial coding\n",
    "\n",
    "# Main function\n",
    "def main():\n",
    "## Import modules\n",
    "    # Import Read Dic Data for Computer Vision\n",
    "    import RDDCV\n",
    "    # Import Convert Dic Data for Computer Vision\n",
    "    import CDDCV\n",
    "    # Import utilities for DIC data\n",
    "    import UDDCV\n",
    "## Rename module-mapped functions \n",
    "    # Function to read commmand line data\n",
    "    RDCLI = RDDCV.RDCLI\n",
    "    # Function to convert Dic image to given mode\n",
    "    CDMOD = CDDCV.CDMOD\n",
    "    # Function to show exit string\n",
    "    SEXIT = UDDCV.SEXIT\n",
    "## Extract input data\n",
    "    # Extract interpreter and command line input\n",
    "    error,clinpt = RDCLI()\n",
    "## Convert DIC images\n",
    "    # Convert to CLI-based mode\n",
    "    if not error: error = CDMOD(clinpt)\n",
    "## Terminate run\n",
    "    # String on exit\n",
    "    SEXIT(error,clinpt)\n",
    "\n",
    "# Main method\n",
    "if __name__ == '__main__':\n",
    "    # Execute main function\n",
    "    main()"
   ]
  }
 ],
 "metadata": {
  "kernelspec": {
   "display_name": "Python 3 (ipykernel)",
   "language": "python",
   "name": "python3"
  },
  "language_info": {
   "codemirror_mode": {
    "name": "ipython",
    "version": 3
   },
   "file_extension": ".py",
   "mimetype": "text/x-python",
   "name": "python",
   "nbconvert_exporter": "python",
   "pygments_lexer": "ipython3",
   "version": "3.11.7"
  }
 },
 "nbformat": 4,
 "nbformat_minor": 5
}
